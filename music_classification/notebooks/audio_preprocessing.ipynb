{
 "cells": [
  {
   "cell_type": "markdown",
   "id": "5342b9e0",
   "metadata": {},
   "source": [
    "# Music Classification"
   ]
  },
  {
   "cell_type": "markdown",
   "id": "dfb8f16e",
   "metadata": {},
   "source": [
    "## Import Libraries"
   ]
  },
  {
   "cell_type": "code",
   "execution_count": 12,
   "id": "0305d430",
   "metadata": {},
   "outputs": [],
   "source": [
    "import pandas as pd\n",
    "import numpy as np\n",
    "from collections import Counter\n",
    "import matplotlib.pyplot as plt\n",
    "import tensorflow as tf"
   ]
  },
  {
   "cell_type": "markdown",
   "id": "e147eae4",
   "metadata": {},
   "source": [
    "## GLOBAL VARIABLES"
   ]
  },
  {
   "cell_type": "code",
   "execution_count": 9,
   "id": "32e8af49",
   "metadata": {},
   "outputs": [],
   "source": [
    "DATASET_DIR = \"../Data/genres_original/\"\n",
    "BATCH_SIZE = 32"
   ]
  },
  {
   "cell_type": "markdown",
   "id": "3b3aecd7",
   "metadata": {},
   "source": [
    "## Load Dataset"
   ]
  },
  {
   "cell_type": "code",
   "execution_count": 10,
   "id": "e3a490f4",
   "metadata": {},
   "outputs": [
    {
     "name": "stdout",
     "output_type": "stream",
     "text": [
      "Found 1000 files belonging to 10 classes.\n",
      "Using 800 files for training.\n",
      "Using 200 files for validation.\n"
     ]
    }
   ],
   "source": [
    "train_ds, val_ds = tf.keras.utils.audio_dataset_from_directory(\n",
    "directory=DATASET_DIR,\n",
    "validation_split=0.2,\n",
    "subset='both',\n",
    "seed=0,\n",
    "batch_size=BATCH_SIZE \n",
    ")"
   ]
  },
  {
   "cell_type": "code",
   "execution_count": 17,
   "id": "71c658d1",
   "metadata": {},
   "outputs": [
    {
     "name": "stdout",
     "output_type": "stream",
     "text": [
      "Label names: ['blues', 'classical', 'country', 'disco', 'hiphop', 'jazz', 'metal', 'pop', 'reggae', 'rock']\n"
     ]
    }
   ],
   "source": [
    "class_names = train_ds.class_names\n",
    "print(f\"Label names: {class_names}\")"
   ]
  },
  {
   "cell_type": "markdown",
   "id": "44bffab0",
   "metadata": {},
   "source": [
    "## Class distribution"
   ]
  },
  {
   "cell_type": "code",
   "execution_count": 21,
   "id": "65292e1b",
   "metadata": {},
   "outputs": [],
   "source": [
    "# Initialize a counter to count the no of samples in each class\n",
    "class_counts = Counter()\n",
    "for images, classes in train_ds:\n",
    "    class_counts.update(classes.numpy())"
   ]
  },
  {
   "cell_type": "code",
   "execution_count": 29,
   "id": "7e65547f",
   "metadata": {},
   "outputs": [
    {
     "data": {
      "image/png": "[encoded data removed]",
      "text/plain": [
       "<Figure size 1100x400 with 1 Axes>"
      ]
     },
     "metadata": {},
     "output_type": "display_data"
    }
   ],
   "source": [
    "class_labels = list(class_counts.keys())\n",
    "class_count_values = list(class_counts.values())\n",
    "\n",
    "plt.figure(figsize=(11, 4))\n",
    "plt.bar(class_labels, class_count_values)\n",
    "plt.xlabel(\"Class Labels\")\n",
    "plt.ylabel(\"No. of Images\")\n",
    "plt.title(\"Class Distribution\")\n",
    "plt.xticks(rotation=45)\n",
    "plt.show()"
   ]
  },
  {
   "cell_type": "markdown",
   "id": "bbfc1242",
   "metadata": {},
   "source": [
    "### `Insight`:\n",
    "We can see that the class is almost balanced."
   ]
  },
  {
   "cell_type": "code",
   "execution_count": null,
   "id": "f8ff0b91",
   "metadata": {},
   "outputs": [],
   "source": []
  }
 ],
 "metadata": {
  "kernelspec": {
   "display_name": "Python 3 (ipykernel)",
   "language": "python",
   "name": "python3"
  },
  "language_info": {
   "codemirror_mode": {
    "name": "ipython",
    "version": 3
   },
   "file_extension": ".py",
   "mimetype": "text/x-python",
   "name": "python",
   "nbconvert_exporter": "python",
   "pygments_lexer": "ipython3",
   "version": "3.11.4"
  }
 },
 "nbformat": 4,
 "nbformat_minor": 5
}
